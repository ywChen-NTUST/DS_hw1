{
  "nbformat": 4,
  "nbformat_minor": 0,
  "metadata": {
    "colab": {
      "name": "DS_hw1_finalVer.ipynb",
      "provenance": [],
      "authorship_tag": "ABX9TyMumEfF1iC7g/qs2KV2DPpV",
      "include_colab_link": true
    },
    "kernelspec": {
      "name": "python3",
      "display_name": "Python 3"
    }
  },
  "cells": [
    {
      "cell_type": "markdown",
      "metadata": {
        "id": "view-in-github",
        "colab_type": "text"
      },
      "source": [
        "<a href=\"https://colab.research.google.com/github/ywChen-NTUST/DS_hw1/blob/main/DS_hw1_finalVer.ipynb\" target=\"_parent\"><img src=\"https://colab.research.google.com/assets/colab-badge.svg\" alt=\"Open In Colab\"/></a>"
      ]
    },
    {
      "cell_type": "markdown",
      "metadata": {
        "id": "svCT6-3F29L1"
      },
      "source": [
        "# **Data process**"
      ]
    },
    {
      "cell_type": "markdown",
      "metadata": {
        "id": "gKea2m6N3Sz7"
      },
      "source": [
        "## 1. Load initial data"
      ]
    },
    {
      "cell_type": "markdown",
      "metadata": {
        "id": "tdSAHfbs4ruX"
      },
      "source": [
        "### Load data"
      ]
    },
    {
      "cell_type": "code",
      "metadata": {
        "colab": {
          "base_uri": "https://localhost:8080/"
        },
        "id": "tuV4Euiz2z-A",
        "outputId": "9fa33bb7-ffde-4c54-cef8-271e0dedf8d0"
      },
      "source": [
        "# load file into workspace\n",
        "# Ref: https://colab.research.google.com/drive/1i41Whco5KIb7EuntKYwTVORAkAwCmlkF#scrollTo=XztYEj0oD7J3\n",
        "\n",
        "!gdown --id \"1Y31B7-v_0VJCdBN5K4wmwA1GeBrb69bv\" --output train.csv\n",
        "!gdown --id \"1Y9kgTD5JgYe_d34w71WWcRZTqwhqhRY8\" --output test.csv"
      ],
      "execution_count": null,
      "outputs": [
        {
          "output_type": "stream",
          "text": [
            "Downloading...\n",
            "From: https://drive.google.com/uc?id=1Y31B7-v_0VJCdBN5K4wmwA1GeBrb69bv\n",
            "To: /content/train.csv\n",
            "100% 1.72M/1.72M [00:00<00:00, 110MB/s]\n",
            "Downloading...\n",
            "From: https://drive.google.com/uc?id=1Y9kgTD5JgYe_d34w71WWcRZTqwhqhRY8\n",
            "To: /content/test.csv\n",
            "100% 84.2k/84.2k [00:00<00:00, 67.6MB/s]\n"
          ],
          "name": "stdout"
        }
      ]
    },
    {
      "cell_type": "code",
      "metadata": {
        "id": "4-nrqJKG4II5"
      },
      "source": [
        "import pandas as pd\n",
        "import numpy as np"
      ],
      "execution_count": null,
      "outputs": []
    },
    {
      "cell_type": "code",
      "metadata": {
        "id": "yxqgSQgu4dtv"
      },
      "source": [
        "train = pd.read_csv(\"./train.csv\")"
      ],
      "execution_count": null,
      "outputs": []
    },
    {
      "cell_type": "markdown",
      "metadata": {
        "id": "Ld3hayPx4vZq"
      },
      "source": [
        "### Preprocessing"
      ]
    },
    {
      "cell_type": "code",
      "metadata": {
        "id": "rsqkTyrp4hQF"
      },
      "source": [
        "from sklearn import preprocessing"
      ],
      "execution_count": null,
      "outputs": []
    },
    {
      "cell_type": "code",
      "metadata": {
        "id": "DOTFjKom4mI1"
      },
      "source": [
        "# Attribute1(date) to month\n",
        "# Assumption: raining or not has some relation with month\n",
        "\n",
        "att1 = train['Attribute1'].copy()\n",
        "for i in range(len(att1)):\n",
        "  att1[i] = att1[i].split('-')[1]\n",
        "train['Attribute1'] = att1"
      ],
      "execution_count": null,
      "outputs": []
    },
    {
      "cell_type": "code",
      "metadata": {
        "id": "HOR72JUe5O1A"
      },
      "source": [
        "# Attribute 5, 6, 7, 9, 12, 13, 14, 15 fill 0\n",
        "# Attribute 8, 10, 11 fill NoWind catalog\n",
        "\n",
        "fillzero = train[['Attribute5', 'Attribute6', 'Attribute7', 'Attribute9', 'Attribute12', 'Attribute13', 'Attribute14', 'Attribute15']].copy()\n",
        "fillzero = fillzero.fillna(0)\n",
        "\n",
        "fillNoWind = train[['Attribute8', 'Attribute10', 'Attribute11']].copy()\n",
        "fillNoWind = fillNoWind.fillna(\"NoWind\")\n",
        "\n",
        "train[['Attribute5', 'Attribute6', 'Attribute7', 'Attribute9', 'Attribute12', 'Attribute13', 'Attribute14', 'Attribute15']] = fillzero\n",
        "train[['Attribute8', 'Attribute10', 'Attribute11']] = fillNoWind"
      ],
      "execution_count": null,
      "outputs": []
    },
    {
      "cell_type": "code",
      "metadata": {
        "colab": {
          "base_uri": "https://localhost:8080/"
        },
        "id": "6rdLZXkR5U9S",
        "outputId": "075ec812-fc9c-4bd3-bdc7-f825833f3ced"
      },
      "source": [
        "# Attribute 3, 4, 16, 17, 18, 19, 20, 21, 22 fill average data\n",
        "\n",
        "ave = train[[\"Attribute3\", \"Attribute4\", \"Attribute16\", \"Attribute17\", \"Attribute18\", \"Attribute19\", \"Attribute20\", \"Attribute21\"]].mean()\n",
        "most = train[\"Attribute22\"].mode()[0]\n",
        "\n",
        "for i in range(train.shape[0]):\n",
        "  currData = train.iloc[i]\n",
        "  for col in [\"Attribute3\", \"Attribute4\", \"Attribute16\", \"Attribute17\", \"Attribute18\", \"Attribute19\", \"Attribute20\", \"Attribute21\", \"Attribute22\"]:\n",
        "      if (pd.isnull(currData[col])):\n",
        "        if (col == \"Attribute22\"):\n",
        "          train[\"Attribute22\"][i] = most\n",
        "        else:\n",
        "          train[col][i] = ave[col]"
      ],
      "execution_count": null,
      "outputs": [
        {
          "output_type": "stream",
          "text": [
            "/usr/local/lib/python3.6/dist-packages/ipykernel_launcher.py:13: SettingWithCopyWarning: \n",
            "A value is trying to be set on a copy of a slice from a DataFrame\n",
            "\n",
            "See the caveats in the documentation: https://pandas.pydata.org/pandas-docs/stable/user_guide/indexing.html#returning-a-view-versus-a-copy\n",
            "  del sys.path[0]\n",
            "/usr/local/lib/python3.6/dist-packages/ipykernel_launcher.py:11: SettingWithCopyWarning: \n",
            "A value is trying to be set on a copy of a slice from a DataFrame\n",
            "\n",
            "See the caveats in the documentation: https://pandas.pydata.org/pandas-docs/stable/user_guide/indexing.html#returning-a-view-versus-a-copy\n",
            "  # This is added back by InteractiveShellApp.init_path()\n"
          ],
          "name": "stderr"
        }
      ]
    },
    {
      "cell_type": "code",
      "metadata": {
        "id": "V9B7TbbZ5nCX"
      },
      "source": [
        "# One-hot encoding\n",
        "\n",
        "train = pd.get_dummies(train, columns=[\"Attribute1\", \"Attribute2\", \"Attribute8\", \"Attribute10\", \"Attribute11\"])"
      ],
      "execution_count": null,
      "outputs": []
    },
    {
      "cell_type": "code",
      "metadata": {
        "colab": {
          "base_uri": "https://localhost:8080/"
        },
        "id": "D52SLZBb5vQi",
        "outputId": "e2263cb4-2be3-482c-f606-5bd5d3a36315"
      },
      "source": [
        "# Attribute22, Attribute23 binarize\n",
        "\n",
        "for i in range(train.shape[0]):\n",
        "  train[\"Attribute22\"][i] = (train[\"Attribute22\"][i] == \"Yes\")*1\n",
        "  train[\"Attribute23\"][i] = (train[\"Attribute23\"][i] == \"Yes\")*1"
      ],
      "execution_count": null,
      "outputs": [
        {
          "output_type": "stream",
          "text": [
            "/usr/local/lib/python3.6/dist-packages/ipykernel_launcher.py:4: SettingWithCopyWarning: \n",
            "A value is trying to be set on a copy of a slice from a DataFrame\n",
            "\n",
            "See the caveats in the documentation: https://pandas.pydata.org/pandas-docs/stable/user_guide/indexing.html#returning-a-view-versus-a-copy\n",
            "  after removing the cwd from sys.path.\n",
            "/usr/local/lib/python3.6/dist-packages/ipykernel_launcher.py:5: SettingWithCopyWarning: \n",
            "A value is trying to be set on a copy of a slice from a DataFrame\n",
            "\n",
            "See the caveats in the documentation: https://pandas.pydata.org/pandas-docs/stable/user_guide/indexing.html#returning-a-view-versus-a-copy\n",
            "  \"\"\"\n"
          ],
          "name": "stderr"
        }
      ]
    },
    {
      "cell_type": "code",
      "metadata": {
        "id": "0RjDx0MB58jr"
      },
      "source": [
        "# Split X, Y\n",
        "\n",
        "allKeys = train.keys().to_list()\n",
        "allKeys.remove(\"Attribute23\")\n",
        "\n",
        "trainX = train[allKeys]\n",
        "trainY = train[[\"Attribute23\"]]"
      ],
      "execution_count": null,
      "outputs": []
    },
    {
      "cell_type": "code",
      "metadata": {
        "id": "NK07F3Xl6Q3y"
      },
      "source": [
        "# z-score normalization\n",
        "\n",
        "scaler = preprocessing.MinMaxScaler()\n",
        "scaler.fit(trainX)\n",
        "trainX = scaler.transform(trainX)"
      ],
      "execution_count": null,
      "outputs": []
    },
    {
      "cell_type": "code",
      "metadata": {
        "id": "LQjUzssN6iGP"
      },
      "source": [
        "trainY = trainY.astype('int')"
      ],
      "execution_count": null,
      "outputs": []
    },
    {
      "cell_type": "markdown",
      "metadata": {
        "id": "J6S67ips6qV6"
      },
      "source": [
        "### Split training set and validation set"
      ]
    },
    {
      "cell_type": "code",
      "metadata": {
        "id": "is7Ac53R6uLL"
      },
      "source": [
        "from sklearn.model_selection import train_test_split"
      ],
      "execution_count": null,
      "outputs": []
    },
    {
      "cell_type": "code",
      "metadata": {
        "id": "XAh3uhyX7BoN"
      },
      "source": [
        "trainX, validX, trainY, validY = train_test_split(trainX, trainY, test_size=0.33, random_state=29)"
      ],
      "execution_count": null,
      "outputs": []
    },
    {
      "cell_type": "markdown",
      "metadata": {
        "id": "DIyVdzB-3Ygu"
      },
      "source": [
        "## 2. Load preprocressed data"
      ]
    },
    {
      "cell_type": "markdown",
      "metadata": {
        "id": "wS7zltYZ7Wkc"
      },
      "source": [
        "### Load data"
      ]
    },
    {
      "cell_type": "code",
      "metadata": {
        "colab": {
          "base_uri": "https://localhost:8080/"
        },
        "id": "96O51S9s7Wkc",
        "outputId": "ed1a1116-c8cc-4433-8ba6-5bcd35213293"
      },
      "source": [
        "# load file into workspace\n",
        "# Ref: https://colab.research.google.com/drive/1i41Whco5KIb7EuntKYwTVORAkAwCmlkF#scrollTo=XztYEj0oD7J3\n",
        "\n",
        "!gdown --id \"1Y31B7-v_0VJCdBN5K4wmwA1GeBrb69bv\" --output train.csv\n",
        "!gdown --id \"1Y9kgTD5JgYe_d34w71WWcRZTqwhqhRY8\" --output test.csv\n",
        "!gdown --id \"1cv4kHghQU_21tpX4uskxpgUWtcWOu5Mh\" --output clearTrainX.csv\n",
        "!gdown --id \"1comcj1rfjeJKu2pk0-hRnBvHiP487JhU\" --output clearTrainY.csv"
      ],
      "execution_count": null,
      "outputs": [
        {
          "output_type": "stream",
          "text": [
            "Downloading...\n",
            "From: https://drive.google.com/uc?id=1Y31B7-v_0VJCdBN5K4wmwA1GeBrb69bv\n",
            "To: /content/train.csv\n",
            "100% 1.72M/1.72M [00:00<00:00, 115MB/s]\n",
            "Downloading...\n",
            "From: https://drive.google.com/uc?id=1Y9kgTD5JgYe_d34w71WWcRZTqwhqhRY8\n",
            "To: /content/test.csv\n",
            "100% 84.2k/84.2k [00:00<00:00, 80.5MB/s]\n",
            "Downloading...\n",
            "From: https://drive.google.com/uc?id=1cv4kHghQU_21tpX4uskxpgUWtcWOu5Mh\n",
            "To: /content/clearTrainX.csv\n",
            "55.1MB [00:00, 337MB/s]\n",
            "Downloading...\n",
            "From: https://drive.google.com/uc?id=1comcj1rfjeJKu2pk0-hRnBvHiP487JhU\n",
            "To: /content/clearTrainY.csv\n",
            "100% 427k/427k [00:00<00:00, 57.1MB/s]\n"
          ],
          "name": "stdout"
        }
      ]
    },
    {
      "cell_type": "code",
      "metadata": {
        "id": "Frtv3kFe7Wkc"
      },
      "source": [
        "import pandas as pd\n",
        "import numpy as np"
      ],
      "execution_count": null,
      "outputs": []
    },
    {
      "cell_type": "code",
      "metadata": {
        "id": "ahY8imRC-UiT"
      },
      "source": [
        "from sklearn import preprocessing"
      ],
      "execution_count": null,
      "outputs": []
    },
    {
      "cell_type": "code",
      "metadata": {
        "id": "NseOq3n17Wkc"
      },
      "source": [
        "train = pd.read_csv(\"./train.csv\")\n",
        "trainX = np.genfromtxt(\"./clearTrainX.csv\", delimiter=\",\")\n",
        "trainY = np.genfromtxt(\"./clearTrainY.csv\", delimiter=\",\")\n",
        "trainY = trainY.reshape((trainY.shape[0], 1))"
      ],
      "execution_count": null,
      "outputs": []
    },
    {
      "cell_type": "markdown",
      "metadata": {
        "id": "IDm4kC-c7wPl"
      },
      "source": [
        "### Split training set and validation set"
      ]
    },
    {
      "cell_type": "code",
      "metadata": {
        "id": "oIzReWbB7wPl"
      },
      "source": [
        "from sklearn.model_selection import train_test_split"
      ],
      "execution_count": null,
      "outputs": []
    },
    {
      "cell_type": "code",
      "metadata": {
        "id": "W5Ke59-s7wPl"
      },
      "source": [
        "trainX, validX, trainY, validY = train_test_split(trainX, trainY, test_size=0.33, random_state=29)"
      ],
      "execution_count": null,
      "outputs": []
    },
    {
      "cell_type": "markdown",
      "metadata": {
        "id": "g5kP8qzB3GO9"
      },
      "source": [
        "# **Model**"
      ]
    },
    {
      "cell_type": "markdown",
      "metadata": {
        "id": "l6OJ7UAh30Za"
      },
      "source": [
        "## 1. SVM\n",
        "### Kaggle score: 0.73640"
      ]
    },
    {
      "cell_type": "code",
      "metadata": {
        "id": "6bhIFO7j3IkS"
      },
      "source": [
        "from sklearn.svm import SVC\n",
        "SVMmodel = SVC(random_state=29)"
      ],
      "execution_count": null,
      "outputs": []
    },
    {
      "cell_type": "code",
      "metadata": {
        "colab": {
          "base_uri": "https://localhost:8080/"
        },
        "id": "_D1JTZN_76t7",
        "outputId": "dc175910-f34c-4923-f44e-c5c2328ce979"
      },
      "source": [
        "# train\n",
        "SVMmodel.fit(trainX, trainY)"
      ],
      "execution_count": null,
      "outputs": [
        {
          "output_type": "stream",
          "text": [
            "/usr/local/lib/python3.6/dist-packages/sklearn/utils/validation.py:760: DataConversionWarning: A column-vector y was passed when a 1d array was expected. Please change the shape of y to (n_samples, ), for example using ravel().\n",
            "  y = column_or_1d(y, warn=True)\n"
          ],
          "name": "stderr"
        },
        {
          "output_type": "execute_result",
          "data": {
            "text/plain": [
              "SVC(C=1.0, break_ties=False, cache_size=200, class_weight=None, coef0=0.0,\n",
              "    decision_function_shape='ovr', degree=3, gamma='scale', kernel='rbf',\n",
              "    max_iter=-1, probability=False, random_state=29, shrinking=True, tol=0.001,\n",
              "    verbose=False)"
            ]
          },
          "metadata": {
            "tags": []
          },
          "execution_count": 8
        }
      ]
    },
    {
      "cell_type": "code",
      "metadata": {
        "colab": {
          "base_uri": "https://localhost:8080/"
        },
        "id": "pGY23xEr79vw",
        "outputId": "8af89280-c153-4b2a-dce0-40d32660c1b8"
      },
      "source": [
        "# train set score\n",
        "print(SVMmodel.score(trainX, trainY))\n",
        "\n",
        "# valid set score\n",
        "print(SVMmodel.score(validX, validY))"
      ],
      "execution_count": null,
      "outputs": [
        {
          "output_type": "stream",
          "text": [
            "0.8963499825358016\n",
            "0.8633463310882665\n"
          ],
          "name": "stdout"
        }
      ]
    },
    {
      "cell_type": "markdown",
      "metadata": {
        "id": "AqX4qWdo32cg"
      },
      "source": [
        "## 2. MLPClassifier\n",
        "### Kaggle score: 0.78870 (目前採用的版本)"
      ]
    },
    {
      "cell_type": "code",
      "metadata": {
        "id": "Y5jjOvAg37oo"
      },
      "source": [
        "from sklearn.neural_network import MLPClassifier\n",
        "DNNmodel = MLPClassifier(hidden_layer_sizes=(1000,500,200,100), activation=\"relu\", solver=\"adam\", alpha=0.005, batch_size=100, max_iter=1000, random_state=29)"
      ],
      "execution_count": null,
      "outputs": []
    },
    {
      "cell_type": "code",
      "metadata": {
        "colab": {
          "base_uri": "https://localhost:8080/"
        },
        "id": "A8qgnpnP8Vdg",
        "outputId": "58d28682-f954-48bd-cec1-fa9efaae3ca2"
      },
      "source": [
        "# train\n",
        "DNNmodel.fit(trainX, trainY)"
      ],
      "execution_count": null,
      "outputs": [
        {
          "output_type": "stream",
          "text": [
            "/usr/local/lib/python3.6/dist-packages/sklearn/neural_network/_multilayer_perceptron.py:934: DataConversionWarning: A column-vector y was passed when a 1d array was expected. Please change the shape of y to (n_samples, ), for example using ravel().\n",
            "  y = column_or_1d(y, warn=True)\n"
          ],
          "name": "stderr"
        },
        {
          "output_type": "execute_result",
          "data": {
            "text/plain": [
              "MLPClassifier(activation='relu', alpha=0.005, batch_size=100, beta_1=0.9,\n",
              "              beta_2=0.999, early_stopping=False, epsilon=1e-08,\n",
              "              hidden_layer_sizes=(1000, 500, 200, 100),\n",
              "              learning_rate='constant', learning_rate_init=0.001, max_fun=15000,\n",
              "              max_iter=1000, momentum=0.9, n_iter_no_change=10,\n",
              "              nesterovs_momentum=True, power_t=0.5, random_state=29,\n",
              "              shuffle=True, solver='adam', tol=0.0001, validation_fraction=0.1,\n",
              "              verbose=False, warm_start=False)"
            ]
          },
          "metadata": {
            "tags": []
          },
          "execution_count": 8
        }
      ]
    },
    {
      "cell_type": "code",
      "metadata": {
        "colab": {
          "base_uri": "https://localhost:8080/"
        },
        "id": "U0YYmZl18cVF",
        "outputId": "407fae4f-1426-4b62-f337-87d519703d6b"
      },
      "source": [
        "# train set score\n",
        "print(DNNmodel.score(trainX, trainY))\n",
        "\n",
        "# valid set score\n",
        "print(DNNmodel.score(validX, validY))"
      ],
      "execution_count": null,
      "outputs": [
        {
          "output_type": "stream",
          "text": [
            "0.9951973454418442\n",
            "0.8356965615030131\n"
          ],
          "name": "stdout"
        }
      ]
    },
    {
      "cell_type": "markdown",
      "metadata": {
        "id": "JJ3DSAQc3JC6"
      },
      "source": [
        "# **Apply testing set**"
      ]
    },
    {
      "cell_type": "markdown",
      "metadata": {
        "id": "dde-qE319Cq4"
      },
      "source": [
        "## 1. Apply SVM"
      ]
    },
    {
      "cell_type": "markdown",
      "metadata": {
        "id": "YdATRSV28-EL"
      },
      "source": [
        "### Load file"
      ]
    },
    {
      "cell_type": "code",
      "metadata": {
        "id": "PMMBIwvZ3Rgn"
      },
      "source": [
        "test = pd.read_csv(\"./test.csv\")"
      ],
      "execution_count": null,
      "outputs": []
    },
    {
      "cell_type": "markdown",
      "metadata": {
        "id": "yuU9ZyDi9NkB"
      },
      "source": [
        "### Preprocessing"
      ]
    },
    {
      "cell_type": "code",
      "metadata": {
        "id": "ehUkSqaM9NHw"
      },
      "source": [
        "# Attribute1(date) to month\n",
        "\n",
        "att1 = test['Attribute1'].copy()\n",
        "for i in range(len(att1)):\n",
        "  att1[i] = att1[i].split('-')[1]\n",
        "test['Attribute1'] = att1"
      ],
      "execution_count": null,
      "outputs": []
    },
    {
      "cell_type": "code",
      "metadata": {
        "id": "B5VVR8xF9b-0"
      },
      "source": [
        "# One-hot encoding\n",
        "\n",
        "test = pd.get_dummies(test, columns=[\"Attribute1\", \"Attribute2\", \"Attribute8\", \"Attribute10\", \"Attribute11\"])\n",
        "\n",
        "# Filling lost catalog\n",
        "test.insert(29, \"Attribute2_0\", 0)\n",
        "test.insert(30, \"Attribute2_1\", 0)\n",
        "test.insert(31, \"Attribute2_2\", 0)\n",
        "test.insert(33, \"Attribute2_4\", 0)\n",
        "test.insert(34, \"Attribute2_5\", 0)\n",
        "test.insert(35, \"Attribute2_6\", 0)\n",
        "test.insert(41, \"Attribute2_12\", 0)\n",
        "test.insert(43, \"Attribute2_14\", 0)\n",
        "test.insert(45, \"Attribute2_16\", 0)\n",
        "test.insert(46, \"Attribute2_17\", 0)\n",
        "test.insert(52, \"Attribute2_23\", 0)\n",
        "test.insert(53, \"Attribute2_24\", 0)\n",
        "test.insert(54, \"Attribute2_25\", 0)\n",
        "test.insert(55, \"Attribute2_26\", 0)\n",
        "test.insert(58, \"Attribute2_29\", 0)\n",
        "test.insert(59, \"Attribute2_30\", 0)\n",
        "test.insert(63, \"Attribute2_34\", 0)\n",
        "test.insert(65, \"Attribute2_36\", 0)\n",
        "test.insert(69, \"Attribute2_40\", 0)\n",
        "test.insert(70, \"Attribute2_41\", 0)\n",
        "test.insert(72, \"Attribute2_43\", 0)\n",
        "test.insert(75, \"Attribute2_46\", 0)\n",
        "test.insert(76, \"Attribute2_47\", 0)\n",
        "test.insert(86, \"Attribute8_NoWind\", 0)\n",
        "test.insert(103, \"Attribute10_NoWind\", 0)\n",
        "test.insert(120, \"Attribute11_NoWind\", 0)"
      ],
      "execution_count": null,
      "outputs": []
    },
    {
      "cell_type": "code",
      "metadata": {
        "colab": {
          "base_uri": "https://localhost:8080/"
        },
        "id": "dn0-5QEW958G",
        "outputId": "85e0bd01-b299-4d7a-c1c7-4d312e81a542"
      },
      "source": [
        "# Attribute22 binarize\n",
        "\n",
        "for i in range(test.shape[0]):\n",
        "  test[\"Attribute22\"][i] = (test[\"Attribute22\"][i] == \"Yes\")*1"
      ],
      "execution_count": null,
      "outputs": [
        {
          "output_type": "stream",
          "text": [
            "/usr/local/lib/python3.6/dist-packages/ipykernel_launcher.py:4: SettingWithCopyWarning: \n",
            "A value is trying to be set on a copy of a slice from a DataFrame\n",
            "\n",
            "See the caveats in the documentation: https://pandas.pydata.org/pandas-docs/stable/user_guide/indexing.html#returning-a-view-versus-a-copy\n",
            "  after removing the cwd from sys.path.\n"
          ],
          "name": "stderr"
        }
      ]
    },
    {
      "cell_type": "code",
      "metadata": {
        "id": "DG9QskJe-LVP"
      },
      "source": [
        "# Z-score normalization\n",
        "\n",
        "scaler = preprocessing.MinMaxScaler()\n",
        "scaler.fit(test)\n",
        "test = scaler.transform(test)"
      ],
      "execution_count": null,
      "outputs": []
    },
    {
      "cell_type": "markdown",
      "metadata": {
        "id": "KvPFf8Yn-nqj"
      },
      "source": [
        "### Apply model"
      ]
    },
    {
      "cell_type": "code",
      "metadata": {
        "id": "96-TXoiD-kzb"
      },
      "source": [
        "result = SVMmodel.predict(test)"
      ],
      "execution_count": null,
      "outputs": []
    },
    {
      "cell_type": "markdown",
      "metadata": {
        "id": "BJxJF_Cn-0Wv"
      },
      "source": [
        "### Write result"
      ]
    },
    {
      "cell_type": "code",
      "metadata": {
        "id": "8KWPHAvs-236"
      },
      "source": [
        "with open(\"result.csv\", 'w') as fh:\n",
        "  fh.write(\"id,ans\"+\"\\n\")\n",
        "  for i in range(len(test)):\n",
        "    fh.write(str(float(i))+\",\"+str(int(result[i]))+\"\\n\")"
      ],
      "execution_count": null,
      "outputs": []
    },
    {
      "cell_type": "markdown",
      "metadata": {
        "id": "mtlLS3f1-8gP"
      },
      "source": [
        "## 2. Apply MLPClassifier"
      ]
    },
    {
      "cell_type": "markdown",
      "metadata": {
        "id": "ZzETgZbv-8gP"
      },
      "source": [
        "### Load file"
      ]
    },
    {
      "cell_type": "code",
      "metadata": {
        "id": "TFka3cDR-8gP"
      },
      "source": [
        "test = pd.read_csv(\"./test.csv\")"
      ],
      "execution_count": null,
      "outputs": []
    },
    {
      "cell_type": "markdown",
      "metadata": {
        "id": "AI7MFW68-8gP"
      },
      "source": [
        "### Preprocessing"
      ]
    },
    {
      "cell_type": "code",
      "metadata": {
        "id": "qHKlYUbE-8gP"
      },
      "source": [
        "# Attribute1(date) to month\n",
        "\n",
        "att1 = test['Attribute1'].copy()\n",
        "for i in range(len(att1)):\n",
        "  att1[i] = att1[i].split('-')[1]\n",
        "test['Attribute1'] = att1"
      ],
      "execution_count": null,
      "outputs": []
    },
    {
      "cell_type": "code",
      "metadata": {
        "id": "lJdJVLXE-8gQ"
      },
      "source": [
        "# One-hot encoding\n",
        "\n",
        "test = pd.get_dummies(test, columns=[\"Attribute1\", \"Attribute2\", \"Attribute8\", \"Attribute10\", \"Attribute11\"])\n",
        "\n",
        "# Filling lost catalog\n",
        "test.insert(29, \"Attribute2_0\", 0)\n",
        "test.insert(30, \"Attribute2_1\", 0)\n",
        "test.insert(31, \"Attribute2_2\", 0)\n",
        "test.insert(33, \"Attribute2_4\", 0)\n",
        "test.insert(34, \"Attribute2_5\", 0)\n",
        "test.insert(35, \"Attribute2_6\", 0)\n",
        "test.insert(41, \"Attribute2_12\", 0)\n",
        "test.insert(43, \"Attribute2_14\", 0)\n",
        "test.insert(45, \"Attribute2_16\", 0)\n",
        "test.insert(46, \"Attribute2_17\", 0)\n",
        "test.insert(52, \"Attribute2_23\", 0)\n",
        "test.insert(53, \"Attribute2_24\", 0)\n",
        "test.insert(54, \"Attribute2_25\", 0)\n",
        "test.insert(55, \"Attribute2_26\", 0)\n",
        "test.insert(58, \"Attribute2_29\", 0)\n",
        "test.insert(59, \"Attribute2_30\", 0)\n",
        "test.insert(63, \"Attribute2_34\", 0)\n",
        "test.insert(65, \"Attribute2_36\", 0)\n",
        "test.insert(69, \"Attribute2_40\", 0)\n",
        "test.insert(70, \"Attribute2_41\", 0)\n",
        "test.insert(72, \"Attribute2_43\", 0)\n",
        "test.insert(75, \"Attribute2_46\", 0)\n",
        "test.insert(76, \"Attribute2_47\", 0)\n",
        "test.insert(86, \"Attribute8_NoWind\", 0)\n",
        "test.insert(103, \"Attribute10_NoWind\", 0)\n",
        "test.insert(120, \"Attribute11_NoWind\", 0)"
      ],
      "execution_count": null,
      "outputs": []
    },
    {
      "cell_type": "code",
      "metadata": {
        "colab": {
          "base_uri": "https://localhost:8080/"
        },
        "id": "F1gUsdTC-8gQ",
        "outputId": "3bd3781f-7439-4aa6-c805-461214b9ed56"
      },
      "source": [
        "# Attribute22 binarize\n",
        "\n",
        "for i in range(test.shape[0]):\n",
        "  test[\"Attribute22\"][i] = (test[\"Attribute22\"][i] == \"Yes\")*1"
      ],
      "execution_count": null,
      "outputs": [
        {
          "output_type": "stream",
          "text": [
            "/usr/local/lib/python3.6/dist-packages/ipykernel_launcher.py:4: SettingWithCopyWarning: \n",
            "A value is trying to be set on a copy of a slice from a DataFrame\n",
            "\n",
            "See the caveats in the documentation: https://pandas.pydata.org/pandas-docs/stable/user_guide/indexing.html#returning-a-view-versus-a-copy\n",
            "  after removing the cwd from sys.path.\n"
          ],
          "name": "stderr"
        }
      ]
    },
    {
      "cell_type": "code",
      "metadata": {
        "id": "Maunr_VY-8gQ"
      },
      "source": [
        "# Z-score normalization\n",
        "\n",
        "scaler = preprocessing.MinMaxScaler()\n",
        "scaler.fit(test)\n",
        "test = scaler.transform(test)"
      ],
      "execution_count": null,
      "outputs": []
    },
    {
      "cell_type": "markdown",
      "metadata": {
        "id": "Hc7cDlut-8gQ"
      },
      "source": [
        "### Apply model"
      ]
    },
    {
      "cell_type": "code",
      "metadata": {
        "id": "q9FPj2GJ-8gQ"
      },
      "source": [
        "result = DNNmodel.predict(test)"
      ],
      "execution_count": null,
      "outputs": []
    },
    {
      "cell_type": "markdown",
      "metadata": {
        "id": "5nlFvvDm-8gQ"
      },
      "source": [
        "### Write result"
      ]
    },
    {
      "cell_type": "code",
      "metadata": {
        "id": "3GYWzxkO-8gQ"
      },
      "source": [
        "with open(\"result.csv\", 'w') as fh:\n",
        "  fh.write(\"id,ans\"+\"\\n\")\n",
        "  for i in range(len(test)):\n",
        "    fh.write(str(float(i))+\",\"+str(int(result[i]))+\"\\n\")"
      ],
      "execution_count": null,
      "outputs": []
    },
    {
      "cell_type": "markdown",
      "metadata": {
        "id": "lp68CkYa_QVr"
      },
      "source": [
        "# **Download file**"
      ]
    },
    {
      "cell_type": "code",
      "metadata": {
        "colab": {
          "base_uri": "https://localhost:8080/"
        },
        "id": "ioQIrcqy_Spo",
        "outputId": "89e8ab2a-375b-4dff-b2aa-d91de503fcad"
      },
      "source": [
        "#ref: https://stackoverflow.com/questions/48774285/how-to-download-file-created-in-colaboratory-workspace\n",
        "\n",
        "from google.colab import files\n",
        "files.download('result.csv')"
      ],
      "execution_count": null,
      "outputs": [
        {
          "output_type": "display_data",
          "data": {
            "application/javascript": [
              "\n",
              "    async function download(id, filename, size) {\n",
              "      if (!google.colab.kernel.accessAllowed) {\n",
              "        return;\n",
              "      }\n",
              "      const div = document.createElement('div');\n",
              "      const label = document.createElement('label');\n",
              "      label.textContent = `Downloading \"${filename}\": `;\n",
              "      div.appendChild(label);\n",
              "      const progress = document.createElement('progress');\n",
              "      progress.max = size;\n",
              "      div.appendChild(progress);\n",
              "      document.body.appendChild(div);\n",
              "\n",
              "      const buffers = [];\n",
              "      let downloaded = 0;\n",
              "\n",
              "      const channel = await google.colab.kernel.comms.open(id);\n",
              "      // Send a message to notify the kernel that we're ready.\n",
              "      channel.send({})\n",
              "\n",
              "      for await (const message of channel.messages) {\n",
              "        // Send a message to notify the kernel that we're ready.\n",
              "        channel.send({})\n",
              "        if (message.buffers) {\n",
              "          for (const buffer of message.buffers) {\n",
              "            buffers.push(buffer);\n",
              "            downloaded += buffer.byteLength;\n",
              "            progress.value = downloaded;\n",
              "          }\n",
              "        }\n",
              "      }\n",
              "      const blob = new Blob(buffers, {type: 'application/binary'});\n",
              "      const a = document.createElement('a');\n",
              "      a.href = window.URL.createObjectURL(blob);\n",
              "      a.download = filename;\n",
              "      div.appendChild(a);\n",
              "      a.click();\n",
              "      div.remove();\n",
              "    }\n",
              "  "
            ],
            "text/plain": [
              "<IPython.core.display.Javascript object>"
            ]
          },
          "metadata": {
            "tags": []
          }
        },
        {
          "output_type": "display_data",
          "data": {
            "application/javascript": [
              "download(\"download_4587c3cf-8c74-4fe2-bdf9-6700ca7b8ea0\", \"result.csv\", 6281)"
            ],
            "text/plain": [
              "<IPython.core.display.Javascript object>"
            ]
          },
          "metadata": {
            "tags": []
          }
        }
      ]
    }
  ]
}